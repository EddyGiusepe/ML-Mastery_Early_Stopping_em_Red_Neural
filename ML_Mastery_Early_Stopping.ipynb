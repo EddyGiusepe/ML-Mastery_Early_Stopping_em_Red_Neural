{
  "nbformat": 4,
  "nbformat_minor": 0,
  "metadata": {
    "colab": {
      "name": "ML_Mastery_Early_Stopping.ipynb",
      "provenance": [],
      "authorship_tag": "ABX9TyO8/Rd87uyRxuGd+qRk1Ddy",
      "include_colab_link": true
    },
    "kernelspec": {
      "name": "python3",
      "display_name": "Python 3"
    }
  },
  "cells": [
    {
      "cell_type": "markdown",
      "metadata": {
        "id": "view-in-github",
        "colab_type": "text"
      },
      "source": [
        "<a href=\"https://colab.research.google.com/github/EddyGiusepe/ML-Mastery_Early_Stopping_em_Red_Neural/blob/main/ML_Mastery_Early_Stopping.ipynb\" target=\"_parent\"><img src=\"https://colab.research.google.com/assets/colab-badge.svg\" alt=\"Open In Colab\"/></a>"
      ]
    },
    {
      "cell_type": "markdown",
      "metadata": {
        "id": "7NAeZUnYTGgw"
      },
      "source": [
        "# **Early Stopping**\r\n",
        "\r\n",
        "Aqui aprenderemos que **interromper** o treinamento de uma ``rede neural`` antes de ajustar (overfit, superdimensionado) o conjunto de dados de treinamento pode reduzir o superajuste e melhorar a generalização de redes neurais profundas.\r\n",
        "\r\n",
        "Um grande desafio no treinamento de redes neurais é quanto tempo para treiná-las.\r\n",
        "\r\n",
        "Muito pouco treinamento significa que o modelo não se adequará ao treino e aos conjuntos de teste. Demasiado treinamento significa que o modelo superestimará o conjunto de dados de treinamento e terá um desempenho ruim no conjunto de teste.\r\n",
        "\r\n",
        "\r\n",
        "Um meio-termo é treinar no conjunto de dados de treinamento, **mas interromper o treinamento no ponto em que o desempenho em um conjunto de dados de validação começa a degradar**. Essa abordagem simples, eficaz e amplamente usada para treinar redes neurais é chamada de **parada precoce**.\r\n",
        "\r\n",
        "Keras oferece suporte para parada antecipada por meio do retorno de chamada ``EarlyStopping``, que permite especificar a métrica a ser monitorada durante o treinamento.\r\n",
        "\r\n",
        "\r\n",
        " **patient early stopping**\r\n",
        " \r\n",
        "**es = EarlyStopping(monitor='val_loss', mode='min', verbose=1, patience=200)​**\r\n",
        "\r\n",
        "\r\n",
        "O exemplo abaixo demonstra um **Perceptron Multicamadas** com parada precoce em um problema de classificação binária que irá parar quando a perda (loss) de validação não melhorar por $200$$ períodos (``epoch``) de treinamento.\r\n"
      ]
    },
    {
      "cell_type": "markdown",
      "metadata": {
        "id": "jFGSOL7FZJqp"
      },
      "source": [
        "## Importando as livrarias que utilizaremos"
      ]
    },
    {
      "cell_type": "code",
      "metadata": {
        "id": "u5X1y1J-TF5p"
      },
      "source": [
        "from sklearn.datasets import make_circles\r\n",
        "from keras.models import Sequential\r\n",
        "from keras.layers import Dense\r\n",
        "from keras.callbacks import EarlyStopping\r\n",
        "from matplotlib import pyplot"
      ],
      "execution_count": 1,
      "outputs": []
    },
    {
      "cell_type": "markdown",
      "metadata": {
        "id": "NV60fIsMZTfB"
      },
      "source": [
        "## Geramos nosso Dataset"
      ]
    },
    {
      "cell_type": "code",
      "metadata": {
        "id": "nAObG1CsZSoc"
      },
      "source": [
        "X, y = make_circles(n_samples=100, noise=0.1, random_state=1)"
      ],
      "execution_count": 2,
      "outputs": []
    },
    {
      "cell_type": "markdown",
      "metadata": {
        "id": "gK_rA8tDZcEx"
      },
      "source": [
        "## Dividimos em Dados de treino e de Teste"
      ]
    },
    {
      "cell_type": "code",
      "metadata": {
        "id": "N8ha64t2ZbBw"
      },
      "source": [
        "n_train = 30\r\n",
        "trainX, testX = X[:n_train, :], X[n_train:, :]\r\n",
        "trainy, testy = y[:n_train], y[n_train:]"
      ],
      "execution_count": 3,
      "outputs": []
    },
    {
      "cell_type": "markdown",
      "metadata": {
        "id": "MjAj880KZvhn"
      },
      "source": [
        "## Construímos a nossa Rede Neural"
      ]
    },
    {
      "cell_type": "code",
      "metadata": {
        "id": "X2pTdBtTZl1J"
      },
      "source": [
        "model = Sequential()\r\n",
        "\r\n",
        "model.add(Dense(500, input_dim=2, activation='relu'))\r\n",
        "model.add(Dense(1, activation='sigmoid'))"
      ],
      "execution_count": 4,
      "outputs": []
    },
    {
      "cell_type": "markdown",
      "metadata": {
        "id": "SWB3Prt_ajdX"
      },
      "source": [
        "## Compilamos nosso modelo (Rede Neural)"
      ]
    },
    {
      "cell_type": "code",
      "metadata": {
        "id": "kq5frX4vaBOH"
      },
      "source": [
        "model.compile(loss='binary_crossentropy', optimizer='adam', metrics=['accuracy'])"
      ],
      "execution_count": 5,
      "outputs": []
    },
    {
      "cell_type": "markdown",
      "metadata": {
        "id": "EYY1GS6Za0HA"
      },
      "source": [
        "## patient early stopping"
      ]
    },
    {
      "cell_type": "code",
      "metadata": {
        "id": "gpUPOIgZazWQ"
      },
      "source": [
        "es = EarlyStopping(monitor='val_loss', mode='min', verbose=1, patience=200)"
      ],
      "execution_count": 6,
      "outputs": []
    },
    {
      "cell_type": "markdown",
      "metadata": {
        "id": "zSfOlKEmbEhs"
      },
      "source": [
        "## Ajustamos nosso modelo\r\n"
      ]
    },
    {
      "cell_type": "code",
      "metadata": {
        "colab": {
          "base_uri": "https://localhost:8080/"
        },
        "id": "B-APhoqZbAST",
        "outputId": "a4754f1d-14c7-4f67-b9ac-4b34cbf7672b"
      },
      "source": [
        "history = model.fit(trainX, trainy, validation_data=(testX, testy), epochs=4000, verbose=0, callbacks=[es])"
      ],
      "execution_count": 7,
      "outputs": [
        {
          "output_type": "stream",
          "text": [
            "Epoch 00680: early stopping\n"
          ],
          "name": "stdout"
        }
      ]
    },
    {
      "cell_type": "markdown",
      "metadata": {
        "id": "8Qgo4m3_bPJ5"
      },
      "source": [
        "## Avaliamos nosso modelo"
      ]
    },
    {
      "cell_type": "code",
      "metadata": {
        "colab": {
          "base_uri": "https://localhost:8080/"
        },
        "id": "KUr27dmhbNIH",
        "outputId": "1662fbf8-9602-437a-a77d-99ee9160cc46"
      },
      "source": [
        "_, train_acc = model.evaluate(trainX, trainy, verbose=1)\r\n",
        "_, test_acc = model.evaluate(testX, testy, verbose=1)"
      ],
      "execution_count": 8,
      "outputs": [
        {
          "output_type": "stream",
          "text": [
            "1/1 [==============================] - 0s 17ms/step - loss: 0.1240 - accuracy: 0.9667\n",
            "3/3 [==============================] - 0s 2ms/step - loss: 0.4743 - accuracy: 0.8286\n"
          ],
          "name": "stdout"
        }
      ]
    },
    {
      "cell_type": "code",
      "metadata": {
        "colab": {
          "base_uri": "https://localhost:8080/"
        },
        "id": "DW0W92eEbiAj",
        "outputId": "7f136a02-8c9d-4190-8b49-ffe3d7c9c5fa"
      },
      "source": [
        "print('Train: %.3f, Test: %.3f' % (train_acc, test_acc))"
      ],
      "execution_count": 9,
      "outputs": [
        {
          "output_type": "stream",
          "text": [
            "Train: 0.967, Test: 0.829\n"
          ],
          "name": "stdout"
        }
      ]
    },
    {
      "cell_type": "markdown",
      "metadata": {
        "id": "wuMF0JEYbtL-"
      },
      "source": [
        "## Graficamos as nossas curvas de aprendizagem"
      ]
    },
    {
      "cell_type": "code",
      "metadata": {
        "colab": {
          "base_uri": "https://localhost:8080/",
          "height": 278
        },
        "id": "QIwhQJoFbrrU",
        "outputId": "e3054b03-d92f-40c2-f16c-c391ab5e970a"
      },
      "source": [
        "# plot loss learning curves\r\n",
        "\r\n",
        "\r\n",
        "#pyplot.subplot(211)\r\n",
        "pyplot.title('Cross-Entropy Loss', pad=-40)\r\n",
        "pyplot.plot(history.history['loss'], label='train')\r\n",
        "pyplot.plot(history.history['val_loss'], label='test')\r\n",
        "pyplot.legend()\r\n",
        "pyplot.show()"
      ],
      "execution_count": 10,
      "outputs": [
        {
          "output_type": "display_data",
          "data": {
            "image/png": "[encoded data removed]",
            "text/plain": [
              "<Figure size 432x288 with 1 Axes>"
            ]
          },
          "metadata": {
            "tags": [],
            "needs_background": "light"
          }
        }
      ]
    },
    {
      "cell_type": "code",
      "metadata": {
        "colab": {
          "base_uri": "https://localhost:8080/",
          "height": 278
        },
        "id": "frrsBejwb9C7",
        "outputId": "2b104adf-973e-47c8-c463-56fc668ad0b4"
      },
      "source": [
        "# plot accuracy learning curves\r\n",
        "\r\n",
        "#pyplot.subplot(212)\r\n",
        "pyplot.title('Accuracy', pad=-40)\r\n",
        "pyplot.plot(history.history['accuracy'], label='train')\r\n",
        "pyplot.plot(history.history['val_accuracy'], label='test')\r\n",
        "pyplot.legend()\r\n",
        "pyplot.show()"
      ],
      "execution_count": 12,
      "outputs": [
        {
          "output_type": "display_data",
          "data": {
            "image/png": "[encoded data removed]",
            "text/plain": [
              "<Figure size 432x288 with 1 Axes>"
            ]
          },
          "metadata": {
            "tags": [],
            "needs_background": "light"
          }
        }
      ]
    },
    {
      "cell_type": "markdown",
      "metadata": {
        "id": "m58Svs9ScQb4"
      },
      "source": [
        "Você deve executar o exemplo de código com e sem **parada antecipada** e descrever o efeito que tem nas curvas de aprendizado durante o treinamento"
      ]
    },
    {
      "cell_type": "code",
      "metadata": {
        "id": "-ZqEfk6ycEpH"
      },
      "source": [
        ""
      ],
      "execution_count": null,
      "outputs": []
    }
  ]
}